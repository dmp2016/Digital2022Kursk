{
 "cells": [
  {
   "cell_type": "code",
   "execution_count": 1,
   "id": "7f0ca0a0",
   "metadata": {},
   "outputs": [],
   "source": [
    "from typing import Dict, List\n",
    "from collections import defaultdict\n",
    "import random\n",
    "\n",
    "from autocorrect import Speller\n",
    "from pymorphy2 import MorphAnalyzer\n",
    "import pandas as pd\n",
    "import numpy as np\n",
    "import re\n",
    "from sklearn.metrics import roc_auc_score\n",
    "from sklearn.model_selection import train_test_split"
   ]
  },
  {
   "cell_type": "markdown",
   "id": "f92e9519",
   "metadata": {},
   "source": [
    "## Читаем датасеты и выполняем обзор имеющихся данных"
   ]
  },
  {
   "cell_type": "code",
   "execution_count": 2,
   "id": "d576755d",
   "metadata": {},
   "outputs": [],
   "source": [
    "df_train = pd.read_csv('train_dataset_train.csv')\n",
    "df_test = pd.read_csv('test_dataset_test.csv')"
   ]
  },
  {
   "cell_type": "code",
   "execution_count": 3,
   "id": "79837f14",
   "metadata": {},
   "outputs": [
    {
     "data": {
      "text/html": [
       "<div>\n",
       "<style scoped>\n",
       "    .dataframe tbody tr th:only-of-type {\n",
       "        vertical-align: middle;\n",
       "    }\n",
       "\n",
       "    .dataframe tbody tr th {\n",
       "        vertical-align: top;\n",
       "    }\n",
       "\n",
       "    .dataframe thead th {\n",
       "        text-align: right;\n",
       "    }\n",
       "</style>\n",
       "<table border=\"1\" class=\"dataframe\">\n",
       "  <thead>\n",
       "    <tr style=\"text-align: right;\">\n",
       "      <th></th>\n",
       "      <th>id</th>\n",
       "      <th>Текст Сообщения</th>\n",
       "      <th>Тематика</th>\n",
       "      <th>Ответственное лицо</th>\n",
       "      <th>Категория</th>\n",
       "    </tr>\n",
       "  </thead>\n",
       "  <tbody>\n",
       "    <tr>\n",
       "      <th>0</th>\n",
       "      <td>2246</td>\n",
       "      <td>Помогите начальник Льговского рэс не реагирует...</td>\n",
       "      <td>Нарушения, связанные с содержанием электросети...</td>\n",
       "      <td>Администрация Льговского района</td>\n",
       "      <td>3</td>\n",
       "    </tr>\n",
       "    <tr>\n",
       "      <th>1</th>\n",
       "      <td>380</td>\n",
       "      <td>&lt;p&gt;По фасаду дома по адресу ул. Урицкого 22 пр...</td>\n",
       "      <td>Аварийные деревья</td>\n",
       "      <td>Администрация города Курска</td>\n",
       "      <td>3</td>\n",
       "    </tr>\n",
       "    <tr>\n",
       "      <th>2</th>\n",
       "      <td>2240</td>\n",
       "      <td>Агресивные собаки. На радуге там стая из подро...</td>\n",
       "      <td>Безнадзорные животные</td>\n",
       "      <td>Администрация города Курска</td>\n",
       "      <td>1</td>\n",
       "    </tr>\n",
       "    <tr>\n",
       "      <th>3</th>\n",
       "      <td>596</td>\n",
       "      <td>&lt;p&gt;На пересечении &amp;nbsp;улиц Сосновская и Бере...</td>\n",
       "      <td>Нескошенная сорная растительность в местах общ...</td>\n",
       "      <td>Комитет дорожного хозяйства города Курска</td>\n",
       "      <td>3</td>\n",
       "    </tr>\n",
       "    <tr>\n",
       "      <th>4</th>\n",
       "      <td>1797</td>\n",
       "      <td>&lt;p style=`text-align:justify;`&gt;&lt;span style=`ba...</td>\n",
       "      <td>Аварийные деревья</td>\n",
       "      <td>Комитет городского хозяйства города Курска</td>\n",
       "      <td>3</td>\n",
       "    </tr>\n",
       "  </tbody>\n",
       "</table>\n",
       "</div>"
      ],
      "text/plain": [
       "     id                                    Текст Сообщения  \\\n",
       "0  2246  Помогите начальник Льговского рэс не реагирует...   \n",
       "1   380  <p>По фасаду дома по адресу ул. Урицкого 22 пр...   \n",
       "2  2240  Агресивные собаки. На радуге там стая из подро...   \n",
       "3   596  <p>На пересечении &nbsp;улиц Сосновская и Бере...   \n",
       "4  1797  <p style=`text-align:justify;`><span style=`ba...   \n",
       "\n",
       "                                            Тематика  \\\n",
       "0  Нарушения, связанные с содержанием электросети...   \n",
       "1                                  Аварийные деревья   \n",
       "2                              Безнадзорные животные   \n",
       "3  Нескошенная сорная растительность в местах общ...   \n",
       "4                                  Аварийные деревья   \n",
       "\n",
       "                           Ответственное лицо  Категория  \n",
       "0             Администрация Льговского района          3  \n",
       "1                 Администрация города Курска          3  \n",
       "2                 Администрация города Курска          1  \n",
       "3   Комитет дорожного хозяйства города Курска          3  \n",
       "4  Комитет городского хозяйства города Курска          3  "
      ]
     },
     "execution_count": 3,
     "metadata": {},
     "output_type": "execute_result"
    }
   ],
   "source": [
    "df_train.head()"
   ]
  },
  {
   "cell_type": "code",
   "execution_count": 4,
   "id": "b788cc7f",
   "metadata": {
    "scrolled": true
   },
   "outputs": [
    {
     "data": {
      "text/html": [
       "<div>\n",
       "<style scoped>\n",
       "    .dataframe tbody tr th:only-of-type {\n",
       "        vertical-align: middle;\n",
       "    }\n",
       "\n",
       "    .dataframe tbody tr th {\n",
       "        vertical-align: top;\n",
       "    }\n",
       "\n",
       "    .dataframe thead th {\n",
       "        text-align: right;\n",
       "    }\n",
       "</style>\n",
       "<table border=\"1\" class=\"dataframe\">\n",
       "  <thead>\n",
       "    <tr style=\"text-align: right;\">\n",
       "      <th></th>\n",
       "      <th>id</th>\n",
       "      <th>Текст Сообщения</th>\n",
       "      <th>Тематика</th>\n",
       "      <th>Ответственное лицо</th>\n",
       "    </tr>\n",
       "  </thead>\n",
       "  <tbody>\n",
       "    <tr>\n",
       "      <th>0</th>\n",
       "      <td>843</td>\n",
       "      <td>&lt;p&gt;Здравствуйте. На улице Мира &amp;nbsp;было заме...</td>\n",
       "      <td>Неработающее наружное освещение</td>\n",
       "      <td>Администрация Курчатовского района</td>\n",
       "    </tr>\n",
       "    <tr>\n",
       "      <th>1</th>\n",
       "      <td>1422</td>\n",
       "      <td>&lt;p&gt;Уже вторую неделю не горит уличное освещени...</td>\n",
       "      <td>Неработающее наружное освещение</td>\n",
       "      <td>Комитет жилищно-коммунального хозяйства города...</td>\n",
       "    </tr>\n",
       "    <tr>\n",
       "      <th>2</th>\n",
       "      <td>2782</td>\n",
       "      <td>Не работает освещение во дворе дома 11а по Эне...</td>\n",
       "      <td>Неработающее наружное освещение</td>\n",
       "      <td>Комитет жилищно-коммунального хозяйства города...</td>\n",
       "    </tr>\n",
       "    <tr>\n",
       "      <th>3</th>\n",
       "      <td>2704</td>\n",
       "      <td>После покоса сорной растительности на газоне м...</td>\n",
       "      <td>Неудовлетворительная уборка улиц и тротуаров</td>\n",
       "      <td>Администрация Центрального округа города Курска</td>\n",
       "    </tr>\n",
       "    <tr>\n",
       "      <th>4</th>\n",
       "      <td>1</td>\n",
       "      <td>&lt;p&gt;Прошу принять меры к водителю маршрута 263:...</td>\n",
       "      <td>Неудовлетворительный внешний вид (поведение) в...</td>\n",
       "      <td>Администрация города Курска</td>\n",
       "    </tr>\n",
       "  </tbody>\n",
       "</table>\n",
       "</div>"
      ],
      "text/plain": [
       "     id                                    Текст Сообщения  \\\n",
       "0   843  <p>Здравствуйте. На улице Мира &nbsp;было заме...   \n",
       "1  1422  <p>Уже вторую неделю не горит уличное освещени...   \n",
       "2  2782  Не работает освещение во дворе дома 11а по Эне...   \n",
       "3  2704  После покоса сорной растительности на газоне м...   \n",
       "4     1  <p>Прошу принять меры к водителю маршрута 263:...   \n",
       "\n",
       "                                            Тематика  \\\n",
       "0                    Неработающее наружное освещение   \n",
       "1                    Неработающее наружное освещение   \n",
       "2                    Неработающее наружное освещение   \n",
       "3       Неудовлетворительная уборка улиц и тротуаров   \n",
       "4  Неудовлетворительный внешний вид (поведение) в...   \n",
       "\n",
       "                                  Ответственное лицо  \n",
       "0                 Администрация Курчатовского района  \n",
       "1  Комитет жилищно-коммунального хозяйства города...  \n",
       "2  Комитет жилищно-коммунального хозяйства города...  \n",
       "3    Администрация Центрального округа города Курска  \n",
       "4                        Администрация города Курска  "
      ]
     },
     "execution_count": 4,
     "metadata": {},
     "output_type": "execute_result"
    }
   ],
   "source": [
    "df_test.head()"
   ]
  },
  {
   "cell_type": "markdown",
   "id": "33bf24e7",
   "metadata": {},
   "source": [
    "## Оценка влияния полей на категорию обращения"
   ]
  },
  {
   "cell_type": "markdown",
   "id": "3b8688c1",
   "metadata": {},
   "source": [
    "Убедимся, что одной тематике соответствует одна и та же категория"
   ]
  },
  {
   "cell_type": "code",
   "execution_count": 5,
   "id": "2bf2e1a6",
   "metadata": {},
   "outputs": [],
   "source": [
    "df_train_grp_theme = df_train.groupby('Тематика')"
   ]
  },
  {
   "cell_type": "code",
   "execution_count": 6,
   "id": "ddf08493",
   "metadata": {},
   "outputs": [],
   "source": [
    "df_train_grp_theme = df_train_grp_theme['Категория'].agg([('cat_min', 'min'), ('cat_max', 'max'), ('theme_count', 'count')])"
   ]
  },
  {
   "cell_type": "code",
   "execution_count": 7,
   "id": "1127dc54",
   "metadata": {},
   "outputs": [
    {
     "data": {
      "text/plain": [
       "0"
      ]
     },
     "execution_count": 7,
     "metadata": {},
     "output_type": "execute_result"
    }
   ],
   "source": [
    "np.sum(df_train_grp_theme.cat_min != df_train_grp_theme.cat_max)"
   ]
  },
  {
   "cell_type": "markdown",
   "id": "827752e6",
   "metadata": {},
   "source": [
    "В то же время можно заметить наличие большого количества тем, присутствующих только в одной записи."
   ]
  },
  {
   "cell_type": "code",
   "execution_count": 8,
   "id": "f98c8d79",
   "metadata": {
    "collapsed": true
   },
   "outputs": [
    {
     "data": {
      "text/plain": [
       "Тематика\n",
       "Нарушения в вопросах оплаты коммунальных услуг в микрорайонах ИЖС                                                                       1\n",
       "Нарушения, связанные с обеспечением детским питанием                                                                                    1\n",
       "Неудовлетворительное качество работы преподавателей и другого персонала учреждения дополнительного образования                          1\n",
       "Нарушение графика движения при осуществлении внутриобластных междугородных перевозок                                                    1\n",
       "Нарушение графика движения при осуществлении муниципальных (пригородных) перевозок                                                      1\n",
       "Недостаточное обеспечение кадрами учреждений здравоохранения                                                                            1\n",
       "Отказ в вакцинации                                                                                                                      1\n",
       "Недостаточное количество вагонов                                                                                                        1\n",
       "Нарушение сроков реализации товара, оказания услуг                                                                                      1\n",
       "Меры поддержки в условиях неблагоприятной эпидемиологической ситуации в сфере торговли                                                  1\n",
       "Низкое качество работы учреждений физической культуры и спорта                                                                          1\n",
       "Нарушения в вопросах оплаты коммунальных услуг                                                                                          1\n",
       "Неоформленные трудовые отношения                                                                                                        1\n",
       "Неудовлетворительный внешний вид (поведение) водителя при осуществлении муниципальных (пригородных) перевозок                           1\n",
       "Нарушения порядка обеспечения жильем льготных категорий граждан                                                                         1\n",
       "Неудовлетворительный внешний вид (поведение) водителя при осуществлении внутриобластных междугородных перевозок                         1\n",
       "Нарушения порядка присвоение звания «Ветеран труда»                                                                                     1\n",
       "Неудовлетворительное содержание детской  (спортивной) площадки в районе частного сектора                                                1\n",
       "Неудовлетворительное состояние прилегающей территории торгового учреждения                                                              1\n",
       "Низкое качество проведения спортивных мероприятий                                                                                       1\n",
       "Неудовлетворительное качество работы воспитателей и другого персонала                                                                   1\n",
       "Нарушения, связанные с оплатой проезда при осуществлении внутриобластных междугородных перевозок                                        1\n",
       "Некачественное водоснабжение в микрорайонах ИЖС                                                                                         1\n",
       "Необходимо строительство тротуара в микрорайоне ИЖС                                                                                     1\n",
       "Необходимо строительство детской (спортивной) площадки в микрорайоне ИЖС                                                                1\n",
       "Тестовая категория                                                                                                                      1\n",
       "Несвоевременная выплата заработной платы                                                                                                1\n",
       "Ненадлежащее исполнение управляющей компанией работ по содержанию электросети и обеспечению энергоснабжением в многоквартирных домах    1\n",
       "Вопросы оказания помощи беженцам                                                                                                        1\n",
       "Меры поддержки в условиях неблагоприятной эпидемиологической ситуации в сфере медицины                                                  1\n",
       "Name: theme_count, dtype: int64"
      ]
     },
     "execution_count": 8,
     "metadata": {},
     "output_type": "execute_result"
    }
   ],
   "source": [
    "df_train_grp_theme.theme_count.sort_values(axis=0, ascending=True).head(30)"
   ]
  },
  {
   "cell_type": "markdown",
   "id": "82458be5",
   "metadata": {},
   "source": [
    "Это означает, что уже при кросс-валидации мы столкнемся с трудностью при попытке определить категорию по теме: \n",
    "подходящей темы в обучающем датасете может просто не оказаться.\n",
    "Вместо этого мы будем искать не точно такую же тему, а похожую.\n",
    "Но и в этом случае можно столкнуться с ситуацией, когда похожей методики не существует. \n",
    "Поэтому имеет смысл посмотреть и на другие поля."
   ]
  },
  {
   "cell_type": "code",
   "execution_count": 9,
   "id": "e3aa3efd",
   "metadata": {},
   "outputs": [],
   "source": [
    "df_train['Тип ответственного'] = df_train['Ответственное лицо'].apply(lambda x: 'Администрация' if x[:13] == 'Администрация' \n",
    "                                                                     else 'Комитет' if x[:7] == 'Комитет' else 'Другое')"
   ]
  },
  {
   "cell_type": "code",
   "execution_count": 10,
   "id": "62800580",
   "metadata": {},
   "outputs": [
    {
     "data": {
      "text/html": [
       "<div>\n",
       "<style scoped>\n",
       "    .dataframe tbody tr th:only-of-type {\n",
       "        vertical-align: middle;\n",
       "    }\n",
       "\n",
       "    .dataframe tbody tr th {\n",
       "        vertical-align: top;\n",
       "    }\n",
       "\n",
       "    .dataframe thead th {\n",
       "        text-align: right;\n",
       "    }\n",
       "</style>\n",
       "<table border=\"1\" class=\"dataframe\">\n",
       "  <thead>\n",
       "    <tr style=\"text-align: right;\">\n",
       "      <th>Категория</th>\n",
       "      <th>0</th>\n",
       "      <th>1</th>\n",
       "      <th>2</th>\n",
       "      <th>3</th>\n",
       "      <th>4</th>\n",
       "      <th>5</th>\n",
       "      <th>6</th>\n",
       "      <th>7</th>\n",
       "      <th>8</th>\n",
       "      <th>9</th>\n",
       "      <th>10</th>\n",
       "      <th>11</th>\n",
       "      <th>12</th>\n",
       "      <th>13</th>\n",
       "      <th>14</th>\n",
       "      <th>15</th>\n",
       "      <th>16</th>\n",
       "    </tr>\n",
       "    <tr>\n",
       "      <th>Тип ответственного</th>\n",
       "      <th></th>\n",
       "      <th></th>\n",
       "      <th></th>\n",
       "      <th></th>\n",
       "      <th></th>\n",
       "      <th></th>\n",
       "      <th></th>\n",
       "      <th></th>\n",
       "      <th></th>\n",
       "      <th></th>\n",
       "      <th></th>\n",
       "      <th></th>\n",
       "      <th></th>\n",
       "      <th></th>\n",
       "      <th></th>\n",
       "      <th></th>\n",
       "      <th></th>\n",
       "    </tr>\n",
       "  </thead>\n",
       "  <tbody>\n",
       "    <tr>\n",
       "      <th>Администрация</th>\n",
       "      <td>280</td>\n",
       "      <td>11</td>\n",
       "      <td>1</td>\n",
       "      <td>369</td>\n",
       "      <td>0</td>\n",
       "      <td>9</td>\n",
       "      <td>5</td>\n",
       "      <td>13</td>\n",
       "      <td>53</td>\n",
       "      <td>0</td>\n",
       "      <td>12</td>\n",
       "      <td>11</td>\n",
       "      <td>0</td>\n",
       "      <td>6</td>\n",
       "      <td>1</td>\n",
       "      <td>2</td>\n",
       "      <td>76</td>\n",
       "    </tr>\n",
       "    <tr>\n",
       "      <th>Другое</th>\n",
       "      <td>3</td>\n",
       "      <td>0</td>\n",
       "      <td>0</td>\n",
       "      <td>242</td>\n",
       "      <td>2</td>\n",
       "      <td>0</td>\n",
       "      <td>0</td>\n",
       "      <td>0</td>\n",
       "      <td>19</td>\n",
       "      <td>0</td>\n",
       "      <td>1</td>\n",
       "      <td>1</td>\n",
       "      <td>1</td>\n",
       "      <td>1</td>\n",
       "      <td>0</td>\n",
       "      <td>0</td>\n",
       "      <td>3</td>\n",
       "    </tr>\n",
       "    <tr>\n",
       "      <th>Комитет</th>\n",
       "      <td>195</td>\n",
       "      <td>14</td>\n",
       "      <td>2</td>\n",
       "      <td>343</td>\n",
       "      <td>106</td>\n",
       "      <td>3</td>\n",
       "      <td>5</td>\n",
       "      <td>14</td>\n",
       "      <td>67</td>\n",
       "      <td>5</td>\n",
       "      <td>35</td>\n",
       "      <td>7</td>\n",
       "      <td>0</td>\n",
       "      <td>4</td>\n",
       "      <td>3</td>\n",
       "      <td>5</td>\n",
       "      <td>70</td>\n",
       "    </tr>\n",
       "  </tbody>\n",
       "</table>\n",
       "</div>"
      ],
      "text/plain": [
       "Категория            0   1   2    3    4   5   6   7   8   9   10  11  12  13  \\\n",
       "Тип ответственного                                                              \n",
       "Администрация       280  11   1  369    0   9   5  13  53   0  12  11   0   6   \n",
       "Другое                3   0   0  242    2   0   0   0  19   0   1   1   1   1   \n",
       "Комитет             195  14   2  343  106   3   5  14  67   5  35   7   0   4   \n",
       "\n",
       "Категория           14  15  16  \n",
       "Тип ответственного              \n",
       "Администрация        1   2  76  \n",
       "Другое               0   0   3  \n",
       "Комитет              3   5  70  "
      ]
     },
     "execution_count": 10,
     "metadata": {},
     "output_type": "execute_result"
    }
   ],
   "source": [
    "pd.crosstab(df_train['Тип ответственного'], df_train['Категория'])"
   ]
  },
  {
   "cell_type": "markdown",
   "id": "81c9887a",
   "metadata": {},
   "source": [
    "## Подготовка и преобразование данных"
   ]
  },
  {
   "cell_type": "code",
   "execution_count": 11,
   "id": "b5afe459",
   "metadata": {},
   "outputs": [],
   "source": [
    "# Функции для обработки текста\n",
    "\n",
    "RU_LETTERS = re.compile('[а-яё]+')\n",
    "CLEAN_HTML = re.compile('<.*?>')\n",
    "spell = Speller('ru')\n",
    "morph = MorphAnalyzer()\n",
    "\n",
    "# Удяляем html-теги, в нижний регистр, оставляем только русские буквы. Разбиваем на токены.\n",
    "# Удаляем слова короче 3-х символов как неинформативные.\n",
    "def format_text(raw_text: str) -> str:\n",
    "    # Убираем html-теги\n",
    "    txt = re.sub(CLEAN_HTML, '', raw_text)\n",
    "    \n",
    "    # Приводим к нижнему регистру\n",
    "    txt = txt.lower()\n",
    "    \n",
    "    # Оставляем только слова из русских букв\n",
    "    txt = \" \".join(RU_LETTERS.findall(txt))\n",
    "    \n",
    "    # Удаляем неинформативные слова длиной менее 2-х букв.\n",
    "    words_filtered = []\n",
    "    for word in txt.split():\n",
    "        if len(word) > 2:\n",
    "            words_filtered.append(word)\n",
    "    return ' '.join(words_filtered)\n",
    "\n",
    "\n",
    "# Приводим все слова к нормальной форме. Удаляем неинформативные части речи: предлоги, союзы,частицы, междометия.\n",
    "def format_norm(txt: str) -> str:\n",
    "    words = []\n",
    "    for word in txt.split():\n",
    "        m = morph.parse(word)[0]\n",
    "        if m.tag.POS not in ('PREP', 'CONJ', 'PRCL', 'INTJ'):\n",
    "            words.append(m.normal_form)\n",
    "    return ' '.join(words)\n",
    "    "
   ]
  },
  {
   "cell_type": "code",
   "execution_count": 12,
   "id": "e67b14f7",
   "metadata": {},
   "outputs": [],
   "source": [
    "# Подготовка данных для заданного датасета.\n",
    "\n",
    "def format_df_inplace(df: pd.DataFrame) -> None:\n",
    "    # \"Причёсываем\" Текст Сообщения.\n",
    "    df['Текст Сообщения'] = df['Текст Сообщения'].apply(format_text)\n",
    "    # Исправляем опечатки.\n",
    "    df['Текст Сообщения'] = df['Текст Сообщения'].apply(spell)\n",
    "    # Приводим к нормальной форме\n",
    "    df['Текст Сообщения'] = df['Текст Сообщения'].apply(format_norm)\n",
    "    \n",
    "    # Тематику преобразовываем в набор токенов.\n",
    "    df['Тематика'] = df['Тематика'].apply(format_text)\n",
    "    # Нормализованные слова помещаем в отдельное поле, так как исходная Тематика нам пригодится\n",
    "    df['Тематика Норм'] = df['Тематика'].apply(format_norm)\n",
    "    \n",
    "    # Ответственное лицо разбиваем на типы: Администрация, Комиссия, Другое\n",
    "    df['Тип ответственного'] = df['Ответственное лицо'].apply(lambda x: 'Администрация' if x[:13] == 'Администрация' \n",
    "                                                             else 'Комитет' if x[:7] == 'Комитет' else 'Другое')"
   ]
  },
  {
   "cell_type": "code",
   "execution_count": 13,
   "id": "eb501262",
   "metadata": {},
   "outputs": [],
   "source": [
    "# # Еще раз читаем исходные данные на случай, если в ходе экспериментов в них уже что-то было поломано\n",
    "\n",
    "# df_train = pd.read_csv('train_dataset_train.csv')\n",
    "# df_test = pd.read_csv('test_dataset_test.csv')\n",
    "\n",
    "# format_df_inplace(df_train)\n",
    "# format_df_inplace(df_test)\n",
    "\n",
    "# # Так как подготовка знимает много времени, сохраним результаты чтобы в следующий раз сразу загрузить уже подготовленные данные.\n",
    "# df_train.to_csv('train_dataset_prepared.csv')\n",
    "# df_test.to_csv('test_dataset_prepared.csv')"
   ]
  },
  {
   "cell_type": "code",
   "execution_count": 15,
   "id": "39a092f3",
   "metadata": {},
   "outputs": [],
   "source": [
    "df_train = pd.read_csv('train_dataset_prepared.csv', index_col=0)\n",
    "df_test = pd.read_csv('test_dataset_prepared.csv', index_col=0)\n"
   ]
  },
  {
   "cell_type": "code",
   "execution_count": 16,
   "id": "1fcafeb1",
   "metadata": {},
   "outputs": [
    {
     "data": {
      "text/html": [
       "<div>\n",
       "<style scoped>\n",
       "    .dataframe tbody tr th:only-of-type {\n",
       "        vertical-align: middle;\n",
       "    }\n",
       "\n",
       "    .dataframe tbody tr th {\n",
       "        vertical-align: top;\n",
       "    }\n",
       "\n",
       "    .dataframe thead th {\n",
       "        text-align: right;\n",
       "    }\n",
       "</style>\n",
       "<table border=\"1\" class=\"dataframe\">\n",
       "  <thead>\n",
       "    <tr style=\"text-align: right;\">\n",
       "      <th></th>\n",
       "      <th>id</th>\n",
       "      <th>Текст Сообщения</th>\n",
       "      <th>Тематика</th>\n",
       "      <th>Ответственное лицо</th>\n",
       "      <th>Категория</th>\n",
       "      <th>Тематика Норм</th>\n",
       "      <th>Тип ответственного</th>\n",
       "    </tr>\n",
       "  </thead>\n",
       "  <tbody>\n",
       "    <tr>\n",
       "      <th>0</th>\n",
       "      <td>2246</td>\n",
       "      <td>помочь начальник льговский рэс реагировать жал...</td>\n",
       "      <td>нарушения связанные содержанием электросети ка...</td>\n",
       "      <td>Администрация Льговского района</td>\n",
       "      <td>3</td>\n",
       "      <td>нарушение связанный содержание электросеть кач...</td>\n",
       "      <td>Администрация</td>\n",
       "    </tr>\n",
       "    <tr>\n",
       "      <th>1</th>\n",
       "      <td>380</td>\n",
       "      <td>фасад дом адрес урицкий проходить труба газовы...</td>\n",
       "      <td>аварийные деревья</td>\n",
       "      <td>Администрация города Курска</td>\n",
       "      <td>3</td>\n",
       "      <td>аварийный дерево</td>\n",
       "      <td>Администрация</td>\n",
       "    </tr>\n",
       "    <tr>\n",
       "      <th>2</th>\n",
       "      <td>2240</td>\n",
       "      <td>агрессивный собака радуга там стая подрасти ще...</td>\n",
       "      <td>безнадзорные животные</td>\n",
       "      <td>Администрация города Курска</td>\n",
       "      <td>1</td>\n",
       "      <td>безнадзорный животное</td>\n",
       "      <td>Администрация</td>\n",
       "    </tr>\n",
       "    <tr>\n",
       "      <th>3</th>\n",
       "      <td>596</td>\n",
       "      <td>пересечение улица сосновый береговой завалить ...</td>\n",
       "      <td>нескошенная сорная растительность местах общег...</td>\n",
       "      <td>Комитет дорожного хозяйства города Курска</td>\n",
       "      <td>3</td>\n",
       "      <td>нескошенный сорный растительность место общий ...</td>\n",
       "      <td>Комитет</td>\n",
       "    </tr>\n",
       "    <tr>\n",
       "      <th>4</th>\n",
       "      <td>1797</td>\n",
       "      <td>рядом дом улица светлый придомовый территория ...</td>\n",
       "      <td>аварийные деревья</td>\n",
       "      <td>Комитет городского хозяйства города Курска</td>\n",
       "      <td>3</td>\n",
       "      <td>аварийный дерево</td>\n",
       "      <td>Комитет</td>\n",
       "    </tr>\n",
       "  </tbody>\n",
       "</table>\n",
       "</div>"
      ],
      "text/plain": [
       "     id                                    Текст Сообщения  \\\n",
       "0  2246  помочь начальник льговский рэс реагировать жал...   \n",
       "1   380  фасад дом адрес урицкий проходить труба газовы...   \n",
       "2  2240  агрессивный собака радуга там стая подрасти ще...   \n",
       "3   596  пересечение улица сосновый береговой завалить ...   \n",
       "4  1797  рядом дом улица светлый придомовый территория ...   \n",
       "\n",
       "                                            Тематика  \\\n",
       "0  нарушения связанные содержанием электросети ка...   \n",
       "1                                  аварийные деревья   \n",
       "2                              безнадзорные животные   \n",
       "3  нескошенная сорная растительность местах общег...   \n",
       "4                                  аварийные деревья   \n",
       "\n",
       "                           Ответственное лицо  Категория  \\\n",
       "0             Администрация Льговского района          3   \n",
       "1                 Администрация города Курска          3   \n",
       "2                 Администрация города Курска          1   \n",
       "3   Комитет дорожного хозяйства города Курска          3   \n",
       "4  Комитет городского хозяйства города Курска          3   \n",
       "\n",
       "                                       Тематика Норм Тип ответственного  \n",
       "0  нарушение связанный содержание электросеть кач...      Администрация  \n",
       "1                                   аварийный дерево      Администрация  \n",
       "2                              безнадзорный животное      Администрация  \n",
       "3  нескошенный сорный растительность место общий ...            Комитет  \n",
       "4                                   аварийный дерево            Комитет  "
      ]
     },
     "execution_count": 16,
     "metadata": {},
     "output_type": "execute_result"
    }
   ],
   "source": [
    "df_train.head()"
   ]
  },
  {
   "cell_type": "code",
   "execution_count": 17,
   "id": "0356b572",
   "metadata": {},
   "outputs": [
    {
     "data": {
      "text/html": [
       "<div>\n",
       "<style scoped>\n",
       "    .dataframe tbody tr th:only-of-type {\n",
       "        vertical-align: middle;\n",
       "    }\n",
       "\n",
       "    .dataframe tbody tr th {\n",
       "        vertical-align: top;\n",
       "    }\n",
       "\n",
       "    .dataframe thead th {\n",
       "        text-align: right;\n",
       "    }\n",
       "</style>\n",
       "<table border=\"1\" class=\"dataframe\">\n",
       "  <thead>\n",
       "    <tr style=\"text-align: right;\">\n",
       "      <th></th>\n",
       "      <th>id</th>\n",
       "      <th>Текст Сообщения</th>\n",
       "      <th>Тематика</th>\n",
       "      <th>Ответственное лицо</th>\n",
       "      <th>Тематика Норм</th>\n",
       "      <th>Тип ответственного</th>\n",
       "    </tr>\n",
       "  </thead>\n",
       "  <tbody>\n",
       "    <tr>\n",
       "      <th>0</th>\n",
       "      <td>843</td>\n",
       "      <td>улица мир быть заменить наружное освещение зам...</td>\n",
       "      <td>неработающее наружное освещение</td>\n",
       "      <td>Администрация Курчатовского района</td>\n",
       "      <td>неработающий наружное освещение</td>\n",
       "      <td>Администрация</td>\n",
       "    </tr>\n",
       "    <tr>\n",
       "      <th>1</th>\n",
       "      <td>1422</td>\n",
       "      <td>уже второй неделя гореть уличный освещение</td>\n",
       "      <td>неработающее наружное освещение</td>\n",
       "      <td>Комитет жилищно-коммунального хозяйства города...</td>\n",
       "      <td>неработающий наружное освещение</td>\n",
       "      <td>Комитет</td>\n",
       "    </tr>\n",
       "    <tr>\n",
       "      <th>2</th>\n",
       "      <td>2782</td>\n",
       "      <td>работать освещение двор дом энергетик световой...</td>\n",
       "      <td>неработающее наружное освещение</td>\n",
       "      <td>Комитет жилищно-коммунального хозяйства города...</td>\n",
       "      <td>неработающий наружное освещение</td>\n",
       "      <td>Комитет</td>\n",
       "    </tr>\n",
       "    <tr>\n",
       "      <th>3</th>\n",
       "      <td>2704</td>\n",
       "      <td>покос сорный растительность газон тротуар прое...</td>\n",
       "      <td>неудовлетворительная уборка улиц тротуаров</td>\n",
       "      <td>Администрация Центрального округа города Курска</td>\n",
       "      <td>неудовлетворительный уборка улица тротуар</td>\n",
       "      <td>Администрация</td>\n",
       "    </tr>\n",
       "    <tr>\n",
       "      <th>4</th>\n",
       "      <td>1</td>\n",
       "      <td>просить принять мера водитель маршрут пос севе...</td>\n",
       "      <td>неудовлетворительный внешний вид поведение вод...</td>\n",
       "      <td>Администрация города Курска</td>\n",
       "      <td>неудовлетворительный внешний вид поведение вод...</td>\n",
       "      <td>Администрация</td>\n",
       "    </tr>\n",
       "  </tbody>\n",
       "</table>\n",
       "</div>"
      ],
      "text/plain": [
       "     id                                    Текст Сообщения  \\\n",
       "0   843  улица мир быть заменить наружное освещение зам...   \n",
       "1  1422         уже второй неделя гореть уличный освещение   \n",
       "2  2782  работать освещение двор дом энергетик световой...   \n",
       "3  2704  покос сорный растительность газон тротуар прое...   \n",
       "4     1  просить принять мера водитель маршрут пос севе...   \n",
       "\n",
       "                                            Тематика  \\\n",
       "0                    неработающее наружное освещение   \n",
       "1                    неработающее наружное освещение   \n",
       "2                    неработающее наружное освещение   \n",
       "3         неудовлетворительная уборка улиц тротуаров   \n",
       "4  неудовлетворительный внешний вид поведение вод...   \n",
       "\n",
       "                                  Ответственное лицо  \\\n",
       "0                 Администрация Курчатовского района   \n",
       "1  Комитет жилищно-коммунального хозяйства города...   \n",
       "2  Комитет жилищно-коммунального хозяйства города...   \n",
       "3    Администрация Центрального округа города Курска   \n",
       "4                        Администрация города Курска   \n",
       "\n",
       "                                       Тематика Норм Тип ответственного  \n",
       "0                    неработающий наружное освещение      Администрация  \n",
       "1                    неработающий наружное освещение            Комитет  \n",
       "2                    неработающий наружное освещение            Комитет  \n",
       "3          неудовлетворительный уборка улица тротуар      Администрация  \n",
       "4  неудовлетворительный внешний вид поведение вод...      Администрация  "
      ]
     },
     "execution_count": 17,
     "metadata": {},
     "output_type": "execute_result"
    }
   ],
   "source": [
    "df_test.head()"
   ]
  },
  {
   "cell_type": "markdown",
   "id": "aac20cc6",
   "metadata": {},
   "source": [
    "## Простейший вариант классификации сравнением Тематики прямым подсчетом совпадающих слов"
   ]
  },
  {
   "cell_type": "code",
   "execution_count": 10,
   "id": "f3de87e7",
   "metadata": {},
   "outputs": [],
   "source": [
    "# Строим словарь соответствий Тематика - Категория для заданного датасета\n",
    "\n",
    "def create_theme_cat_map(df: pd.DataFrame) -> Dict:\n",
    "    theme_cat = dict()\n",
    "    for index, row in df.iterrows():\n",
    "        if row['Тематика'] not in theme_cat:\n",
    "            theme_cat[row['Тематика']] = row['Категория']\n",
    "    return theme_cat"
   ]
  },
  {
   "cell_type": "code",
   "execution_count": 17,
   "id": "7daeebb7",
   "metadata": {},
   "outputs": [],
   "source": [
    "# Строим словарь соответствий \"Множество слов из поля fld_name - Категория\" для заданного датасета.\n",
    "\n",
    "def create_theme_set_cat_map(df: pd.DataFrame, fld_name: str) -> Dict:\n",
    "    theme_cat = dict()\n",
    "    for index, row in df.iterrows():\n",
    "        if row[fld_name] not in theme_cat:\n",
    "            # theme_cat[frozenset(filter(lambda x: len(x) > 2, row['Тематика'].split()))] = row['Категория']\n",
    "            theme_cat[frozenset(row[fld_name].split())] = row['Категория']\n",
    "    return theme_cat"
   ]
  },
  {
   "cell_type": "code",
   "execution_count": 184,
   "id": "7a590673",
   "metadata": {},
   "outputs": [],
   "source": [
    "# Подбор категории на основе прямого сравнения множества слов в поле fld_name\n",
    "\n",
    "def predict_simplest(df_train_data: pd.DataFrame, df_test_data: pd.DataFrame, fld_name: str) -> List[int]:\n",
    "    theme_set_cat_map = create_theme_set_cat_map(df_train_data, fld_name)\n",
    "    res_cat = []\n",
    "    for index, row in df_test_data.iterrows():\n",
    "        # theme_set = set(filter(lambda x: len(x) > 2, row['Тематика'].split()))\n",
    "        theme_set = set(row[fld_name].split())\n",
    "        cur_d = 0\n",
    "        cur_cat = None\n",
    "        for key in theme_set_cat_map:\n",
    "            d = len(key.intersection(theme_set))\n",
    "            if d > cur_d:\n",
    "                cur_d = d\n",
    "                cur_cat = theme_set_cat_map[key]\n",
    "                # print(key.intersection(theme_set))\n",
    "        # res_cat.append(cur_cat)\n",
    "        if cur_d > 0 and ((cur_d <= 3 and len(theme_set) <= 7) or cur_d > 3):\n",
    "        # if (cur_d == len(theme_set)) or cur_d > 3:\n",
    "            res_cat.append(cur_cat)\n",
    "        else:\n",
    "            res_cat.append(None)\n",
    "    return res_cat"
   ]
  },
  {
   "cell_type": "code",
   "execution_count": 160,
   "id": "557d3f9a",
   "metadata": {},
   "outputs": [],
   "source": [
    "# Проверка на кроссвалидации варианта с простейшим классификатором. Оценка количества неверно определившихся и не определившихся категорий.\n",
    "\n",
    "def check_cv_simplest(fld_name: str):\n",
    "    res_none = []\n",
    "    res_correct = []\n",
    "    res_incorrect = []\n",
    "    for ind in range(50):\n",
    "        df_train_oper, df_test_oper, train_oper_y, test_oper_y = train_test_split(df_train,\n",
    "                                                                                  df_train['Категория'], \n",
    "                                                                                  test_size=0.3,\n",
    "                                                                                  random_state=ind * 10)\n",
    "        predict_y = np.array(predict_simplest(df_train_oper, df_test_oper, fld_name))\n",
    "        res_none.append(np.sum(predict_y == None))\n",
    "        res_correct.append(sum((predict_y == test_oper_y)[predict_y != None]))\n",
    "        res_incorrect.append(sum((predict_y != test_oper_y)[predict_y != None]))\n",
    "    return dict(res_none=res_none, res_correct=res_correct, res_incorrect=res_incorrect)\n",
    "\n",
    "def print_stat_check_cv_simplest(r: Dict) -> None:\n",
    "    print(f\"Статистика None. max: {max(r['res_none'])}, min: {min(r['res_none'])}, mean: {np.mean(r['res_none'])}, median: {np.median(r['res_none'])}, sd: {np.std(r['res_none'])}\")\n",
    "    print(f\"Статистика неверных ответов. max: {max(r['res_incorrect'])}, min: {min(r['res_incorrect'])}, mean: {np.mean(r['res_incorrect'])}, median: {np.median(r['res_incorrect'])}, sd: {np.std(r['res_incorrect'])}\")\n",
    "    print(f\"Статистика верных ответов. max: {max(r['res_correct'])}, min: {min(r['res_correct'])}, mean: {np.mean(r['res_correct'])}, median: {np.median(r['res_correct'])}, sd: {np.std(r['res_correct'])}\")\n"
   ]
  },
  {
   "cell_type": "code",
   "execution_count": 185,
   "id": "6823a0c1",
   "metadata": {},
   "outputs": [],
   "source": [
    "r = check_cv_simplest('Тематика')"
   ]
  },
  {
   "cell_type": "code",
   "execution_count": 186,
   "id": "ce5db3d5",
   "metadata": {},
   "outputs": [
    {
     "name": "stdout",
     "output_type": "stream",
     "text": [
      "Статистика None. max: 8, min: 0, mean: 1.42, median: 1.0, sd: 1.5759441614473528\n",
      "Статистика неверных ответов. max: 6, min: 0, mean: 2.64, median: 3.0, sd: 1.52\n",
      "Статистика верных ответов. max: 599, min: 586, mean: 595.94, median: 596.0, sd: 2.3444402316971105\n"
     ]
    }
   ],
   "source": [
    "print_stat_check_cv_simplest(r)"
   ]
  },
  {
   "cell_type": "code",
   "execution_count": 89,
   "id": "3313fdd3",
   "metadata": {},
   "outputs": [],
   "source": [
    "r_norm = check_cv_simplest('Тематика Норм')"
   ]
  },
  {
   "cell_type": "code",
   "execution_count": 90,
   "id": "4f98b6a4",
   "metadata": {},
   "outputs": [
    {
     "name": "stdout",
     "output_type": "stream",
     "text": [
      "Статистика None. max: 15, min: 2, mean: 7.22, median: 7.0, sd: 3.245242671973854\n",
      "Статистика неверных ответов. max: 4, min: 0, mean: 0.78, median: 1.0, sd: 0.9651942809610923\n",
      "Статистика верных ответов. max: 598, min: 581, mean: 592.0, median: 592.0, sd: 3.671511950137164\n"
     ]
    }
   ],
   "source": [
    "print_stat_check_cv_simplest(r_norm)"
   ]
  },
  {
   "cell_type": "markdown",
   "id": "a5cd3a8b",
   "metadata": {},
   "source": [
    "Нормализация Тематики почти не повлияла на результат"
   ]
  },
  {
   "cell_type": "markdown",
   "id": "04587d62",
   "metadata": {},
   "source": [
    "Не ожидая хороших результатов, применим навскидку этот же подход к полю Текст Сообщения"
   ]
  },
  {
   "cell_type": "code",
   "execution_count": 30,
   "id": "e22c4267",
   "metadata": {},
   "outputs": [],
   "source": [
    "r_txt_msg = check_cv_simplest('Текст Сообщения')"
   ]
  },
  {
   "cell_type": "code",
   "execution_count": 31,
   "id": "735dc80e",
   "metadata": {},
   "outputs": [
    {
     "name": "stdout",
     "output_type": "stream",
     "text": [
      "Статистика None. max: 85, min: 59, mean: 69.22, median: 68.0, sd: 6.394654017224076\n",
      "Статистика неверных ответов. max: 248, min: 187, mean: 212.9, median: 212.0, sd: 13.762630562505121\n",
      "Статистика верных ответов. max: 345, min: 274, mean: 317.88, median: 315.5, sd: 14.710050985635638\n"
     ]
    }
   ],
   "source": [
    "print_stat_check_cv_simplest(r_txt_msg)"
   ]
  },
  {
   "cell_type": "markdown",
   "id": "8f8505c6",
   "metadata": {},
   "source": [
    "Как и ожидалось, здесь результаты невысокие."
   ]
  },
  {
   "cell_type": "markdown",
   "id": "39f5f683",
   "metadata": {},
   "source": [
    "## Наивный Байес"
   ]
  },
  {
   "cell_type": "markdown",
   "id": "99977ee0",
   "metadata": {},
   "source": [
    "Используем клкассический вариант классификатора Наивный Байесовский алгоритм. \n",
    "Но к традиционным событиям \"слово содержится в тексте\" дополнительное событие, позволяющее учесть влияние значения поля Тип ответственного на Категорию.\n",
    "\n",
    "Под текстом обращения далее понимаем либо текст сообщения, либо текст темы обращения, исходный или преобразованный.\n",
    "\n",
    "Построим множество слов из текстов всех обращений тренировочного датасета, обозначим его $A$. Пусть $|A| = n$.\n",
    "\n",
    "Далее выберем и зафиксируем обращение, категорию которого мы хотим определить. Множество слов из текста этого обрашения обозначим $A_0$. Значение поля Тип ответственного этого обращения обозначим $R_0$.\n",
    "\n",
    "Для произвольного случайно выбранного обращения введем следующие обозначения для событий.\n",
    "\n",
    "$C_k$ - обращение принадлежит категории $k$.\n",
    "\n",
    "Для каждого слова $i \\in A$ рассмотрим событие $W_i$, которое определяется следующим образом.\n",
    "Если слово $i \\in A_0$, то $W_i$ состоит в том, что слово $i$ содержится в тексте случайно выбранного обращения.\n",
    "Если слово $i \\notin A_0$, то $W_i$ состоит в том, что слово $i$ НЕ содержится в тексте случайно выбранного обращения.\n",
    "\n",
    "Событие $U$ состоит в том, что значение поля Тип отвественного случайно выбранного события совпадает с $R_0$.\n",
    "\n",
    "Тогда по теореме Байеса:\n",
    "\n",
    "$$\n",
    "P(C_k|W_1\\cap W_2\\cap ... \\cap W_n \\cap U) = \\frac{P(W_1\\cap W_2\\cap ... \\cap W_n \\cap U |C_k)P(C_k)}{P(W_1\\cap W_2\\cap ... \\cap W_n \\cap U )}.\n",
    "$$\n",
    "\n",
    "Делая наивное предположение о независимости событий, получаем:\n",
    "\n",
    "$$\n",
    "P(C_k|W_1\\cap W_2\\cap ... \\cap W_n \\cap U) = \\frac{P(W_1|C_k)P(W_2|C_k) ... P(W_n|C_k) P(U|C_k)P(C_k)}{P(W_1)P(W_2) ... P(W_n) P(U)}.\n",
    "$$\n",
    "\n",
    "Оцениваем шанс попадания зафиксированного события в категорию $k$ как\n",
    "$$\n",
    "\\frac{P(C_k|W_1\\cap W_2\\cap ... \\cap W_n \\cap U)}{\\sum_{q = 0}^{16} P(C_q|W_1\\cap W_2\\cap ... \\cap W_n \\cap U) }.\n",
    "$$\n",
    "\n",
    "И выбираем Категорию, соответствующую максимуму этой величины."
   ]
  },
  {
   "cell_type": "code",
   "execution_count": 14,
   "id": "d37ff13c",
   "metadata": {},
   "outputs": [],
   "source": [
    "# Универсальный (с точки зрения выбора текстовых полей для классификации) класс для выполнения классификации Наивным Байесом.\n",
    "\n",
    "class NaiveBayes:\n",
    "    def __init__(self, train_text_list: List[str], train_resp_type: List[str], train_cat_list: List[int]):\n",
    "        if not (len(train_text_list) == len(train_cat_list) == len(train_resp_type)):\n",
    "            raise Exception('Не совпадает длина входных списков')\n",
    "            \n",
    "        self.train_cnt = len(train_text_list)\n",
    "        \n",
    "        # Подсчитваем в скольких записях встречается каждое слово во всех категориях.\n",
    "        # Сколько раз встречается каждое слово в каждой категории.\n",
    "        # Сколько раз встречается каждый Тип ответственного лица в каждой категории\n",
    "        # А также количество записей с каждой категорией\n",
    "\n",
    "        self.word_cnt = defaultdict(int)\n",
    "        self.word_cnt_by_cat = defaultdict(int)\n",
    "        self.train_cnt_by_cat = defaultdict(int)\n",
    "        self.resp_type_cnt_by_cat = defaultdict(int)\n",
    "        for ind in range(len(train_text_list)):\n",
    "            txt = train_text_list[ind]\n",
    "            cat = train_cat_list[ind]\n",
    "            for word in set(txt.split()):\n",
    "                self.word_cnt[word] += 1\n",
    "                self.word_cnt_by_cat[(cat, word)] += 1\n",
    "            self.resp_type_cnt_by_cat[(cat, train_resp_type[ind])] += 1\n",
    "            self.train_cnt_by_cat[cat] += 1\n",
    "        \n",
    "        \n",
    "    def get_word_cnt_in_cat(self, cat: int, word: str) -> int:\n",
    "        return self.word_cnt_by_cat.get((cat, word)) or 1\n",
    "\n",
    "    def get_word_cnt_not_in_cat(self, cat: int, word: str) -> int:\n",
    "        return (self.train_cnt_by_cat[cat] - self.word_cnt_by_cat.get((cat, word), 0)) or 1\n",
    "    \n",
    "    def get_resp_type_cnt_in_cat(self, cat: int, resp_type: str) -> int:\n",
    "        return self.resp_type_cnt_by_cat.get((cat, resp_type)) or 1\n",
    "        \n",
    "    def get_cat_probs(self, txt: str, resp_type: str) -> List[float]:\n",
    "        chance = [0] * 17\n",
    "        word_set = set(txt.split())\n",
    "        for cat in range(17):\n",
    "            # Если категория встречается слишком редко, то оценки для неё будут содержать большие погрешности\n",
    "            # Экспериментально подбираем порог, ниже которого метод работать не будет. \n",
    "            # В этом случае придется считать, то что такая категория не встречается\n",
    "            if self.train_cnt_by_cat[cat] < 30:\n",
    "                chance[cat] = 0\n",
    "            else:\n",
    "                chance[cat] = self.train_cnt_by_cat[cat] / self.train_cnt\n",
    "                for word in self.word_cnt:\n",
    "                    chance[cat] *= (self.get_word_cnt_in_cat(cat, word) \n",
    "                                   if word in word_set else self.get_word_cnt_not_in_cat(cat, word)) / self.train_cnt_by_cat[cat]\n",
    "                chance[cat] *= self.get_resp_type_cnt_in_cat(cat, resp_type) / self.train_cnt_by_cat[cat]\n",
    "        sum_chance = sum(chance)\n",
    "        return [ch / sum_chance for ch in chance]"
   ]
  },
  {
   "cell_type": "markdown",
   "id": "63b1acc6",
   "metadata": {},
   "source": [
    "Проверим, что получилось"
   ]
  },
  {
   "cell_type": "code",
   "execution_count": 35,
   "id": "7de60111",
   "metadata": {},
   "outputs": [],
   "source": [
    "# Разбиваем тренировочный датасет на две части\n",
    "df_train_oper, df_test_oper, train_oper_y, test_oper_y = train_test_split(df_train, df_train['Категория'], test_size=0.3, random_state=42)"
   ]
  },
  {
   "cell_type": "code",
   "execution_count": 60,
   "id": "eb3942c4",
   "metadata": {},
   "outputs": [],
   "source": [
    "# Выполняем классификацию, опираясь на данные поля Текст Сообщения\n",
    "\n",
    "bayes = NaiveBayes(df_train_oper['Текст Сообщения'].values, \n",
    "                   df_train_oper['Тип ответственного'].values,\n",
    "                   df_train_oper['Категория'].values)\n",
    "b_pred_y = [np.argmax(bayes.get_cat_probs(txt, resp_type)) for txt, resp_type in zip(df_test_oper['Текст Сообщения'].values, \n",
    "                                                                          df_test_oper['Тип ответственного'].values)]"
   ]
  },
  {
   "cell_type": "code",
   "execution_count": 61,
   "id": "30732083",
   "metadata": {},
   "outputs": [
    {
     "data": {
      "text/plain": [
       "(350, 250)"
      ]
     },
     "execution_count": 61,
     "metadata": {},
     "output_type": "execute_result"
    }
   ],
   "source": [
    "sum(test_oper_y != b_pred_y), sum(test_oper_y == b_pred_y)"
   ]
  },
  {
   "cell_type": "code",
   "execution_count": 75,
   "id": "fe5b3289",
   "metadata": {},
   "outputs": [],
   "source": [
    "# Выполняем классификацию, опираясь на данные поля Тематика Норм\n",
    "\n",
    "bayes = NaiveBayes(df_train_oper['Тематика Норм'].values, \n",
    "                   df_train_oper['Тип ответственного'].values,\n",
    "                   df_train_oper['Категория'].values)\n",
    "\n",
    "b_pred_y = [np.argmax(bayes.get_cat_probs(txt, resp_type)) for txt, resp_type in zip(df_test_oper['Тематика Норм'].values, \n",
    "                                                                                     df_test_oper['Тип ответственного'].values)]"
   ]
  },
  {
   "cell_type": "code",
   "execution_count": 76,
   "id": "c93301ad",
   "metadata": {},
   "outputs": [
    {
     "data": {
      "text/plain": [
       "(50, 550)"
      ]
     },
     "execution_count": 76,
     "metadata": {},
     "output_type": "execute_result"
    }
   ],
   "source": [
    "sum(test_oper_y != b_pred_y), sum(test_oper_y == b_pred_y)"
   ]
  },
  {
   "cell_type": "code",
   "execution_count": 77,
   "id": "13096a78",
   "metadata": {},
   "outputs": [],
   "source": [
    "# Проверка на кроссвалидации варианта с наивным Байесом. Оценка количества верно и неверно определившихся.\n",
    "\n",
    "def check_cv_bayes(fld_name: str) -> Dict:\n",
    "    res_correct = []\n",
    "    res_incorrect = []\n",
    "    for ind in range(50):\n",
    "        df_train_oper, df_test_oper, train_oper_y, test_oper_y = train_test_split(df_train,\n",
    "                                                                                  df_train['Категория'], \n",
    "                                                                                  test_size=0.3,\n",
    "                                                                                  random_state=ind * 10)\n",
    "\n",
    "        bayes = NaiveBayes(df_train_oper[fld_name].values, \n",
    "                           df_train_oper['Тип ответственного'].values, \n",
    "                           df_train_oper['Категория'].values)\n",
    "        b_pred_y = [np.argmax(bayes.get_cat_probs(txt, resp_type)) for txt, resp_type in zip(df_test_oper[fld_name],\n",
    "                                                                                             df_test_oper['Тип ответственного'])]\n",
    "\n",
    "        res_correct.append(sum((b_pred_y == test_oper_y)))\n",
    "        res_incorrect.append(sum((b_pred_y != test_oper_y)))\n",
    "    return dict(res_correct=res_correct, res_incorrect=res_incorrect)\n",
    "\n",
    "def print_stat_check_cv_bayes(r: Dict) -> None:\n",
    "    print(f\"Статистика неверных ответов. max: {max(r['res_incorrect'])}, min: {min(r['res_incorrect'])}, mean: {np.mean(r['res_incorrect'])}, median: {np.median(r['res_incorrect'])}, sd: {np.std(r['res_incorrect'])}\")\n",
    "    print(f\"Статистика верных ответов. max: {max(r['res_correct'])}, min: {min(r['res_correct'])}, mean: {np.mean(r['res_correct'])}, median: {np.median(r['res_correct'])}, sd: {np.std(r['res_correct'])}\")"
   ]
  },
  {
   "cell_type": "code",
   "execution_count": 78,
   "id": "95b5a7db",
   "metadata": {},
   "outputs": [],
   "source": [
    "# Опираясь на данные поля Тематика\n",
    "\n",
    "r_cv_b = check_cv_bayes('Тематика')"
   ]
  },
  {
   "cell_type": "code",
   "execution_count": 79,
   "id": "607898f3",
   "metadata": {},
   "outputs": [
    {
     "name": "stdout",
     "output_type": "stream",
     "text": [
      "Статистика неверных ответов. max: 82, min: 39, mean: 54.36, median: 53.0, sd: 7.870857640689482\n",
      "Статистика верных ответов. max: 561, min: 518, mean: 545.64, median: 547.0, sd: 7.870857640689482\n"
     ]
    }
   ],
   "source": [
    "print_stat_check_cv_bayes(r_cv_b)"
   ]
  },
  {
   "cell_type": "code",
   "execution_count": 80,
   "id": "057b999c",
   "metadata": {},
   "outputs": [],
   "source": [
    "# Опираясь на данные поля Тематика Норм\n",
    "\n",
    "r_cv_b_norm = check_cv_bayes('Тематика Норм')"
   ]
  },
  {
   "cell_type": "code",
   "execution_count": 81,
   "id": "5b5f22d3",
   "metadata": {},
   "outputs": [
    {
     "name": "stdout",
     "output_type": "stream",
     "text": [
      "Статистика неверных ответов. max: 75, min: 39, mean: 50.52, median: 50.0, sd: 7.077400652782065\n",
      "Статистика верных ответов. max: 561, min: 525, mean: 549.48, median: 550.0, sd: 7.077400652782066\n"
     ]
    }
   ],
   "source": [
    "print_stat_check_cv_bayes(r_cv_b_norm)"
   ]
  },
  {
   "cell_type": "code",
   "execution_count": 82,
   "id": "19c60c10",
   "metadata": {
    "collapsed": true
   },
   "outputs": [
    {
     "ename": "KeyboardInterrupt",
     "evalue": "",
     "output_type": "error",
     "traceback": [
      "\u001b[1;31m---------------------------------------------------------------------------\u001b[0m",
      "\u001b[1;31mKeyboardInterrupt\u001b[0m                         Traceback (most recent call last)",
      "\u001b[1;32m<ipython-input-82-c861da1d1978>\u001b[0m in \u001b[0;36m<module>\u001b[1;34m\u001b[0m\n\u001b[1;32m----> 1\u001b[1;33m \u001b[0mr_cv_b_msg\u001b[0m \u001b[1;33m=\u001b[0m \u001b[0mcheck_cv_bayes\u001b[0m\u001b[1;33m(\u001b[0m\u001b[1;34m'Текст Сообщения'\u001b[0m\u001b[1;33m)\u001b[0m\u001b[1;33m\u001b[0m\u001b[1;33m\u001b[0m\u001b[0m\n\u001b[0m",
      "\u001b[1;32m<ipython-input-77-58682b22d45a>\u001b[0m in \u001b[0;36mcheck_cv_bayes\u001b[1;34m(fld_name)\u001b[0m\n\u001b[0;32m     13\u001b[0m                            \u001b[0mdf_train_oper\u001b[0m\u001b[1;33m[\u001b[0m\u001b[1;34m'Тип ответсвенного'\u001b[0m\u001b[1;33m]\u001b[0m\u001b[1;33m.\u001b[0m\u001b[0mvalues\u001b[0m\u001b[1;33m,\u001b[0m\u001b[1;33m\u001b[0m\u001b[1;33m\u001b[0m\u001b[0m\n\u001b[0;32m     14\u001b[0m                            df_train_oper['Категория'].values)\n\u001b[1;32m---> 15\u001b[1;33m         b_pred_y = [np.argmax(bayes.get_cat_probs(txt, resp_type)) for txt, resp_type in zip(df_test_oper[fld_name],\n\u001b[0m\u001b[0;32m     16\u001b[0m                                                                                              df_test_oper['Тип ответсвенного'])]\n\u001b[0;32m     17\u001b[0m \u001b[1;33m\u001b[0m\u001b[0m\n",
      "\u001b[1;32m<ipython-input-77-58682b22d45a>\u001b[0m in \u001b[0;36m<listcomp>\u001b[1;34m(.0)\u001b[0m\n\u001b[0;32m     13\u001b[0m                            \u001b[0mdf_train_oper\u001b[0m\u001b[1;33m[\u001b[0m\u001b[1;34m'Тип ответсвенного'\u001b[0m\u001b[1;33m]\u001b[0m\u001b[1;33m.\u001b[0m\u001b[0mvalues\u001b[0m\u001b[1;33m,\u001b[0m\u001b[1;33m\u001b[0m\u001b[1;33m\u001b[0m\u001b[0m\n\u001b[0;32m     14\u001b[0m                            df_train_oper['Категория'].values)\n\u001b[1;32m---> 15\u001b[1;33m         b_pred_y = [np.argmax(bayes.get_cat_probs(txt, resp_type)) for txt, resp_type in zip(df_test_oper[fld_name],\n\u001b[0m\u001b[0;32m     16\u001b[0m                                                                                              df_test_oper['Тип ответсвенного'])]\n\u001b[0;32m     17\u001b[0m \u001b[1;33m\u001b[0m\u001b[0m\n",
      "\u001b[1;32m<ipython-input-74-511c20151106>\u001b[0m in \u001b[0;36mget_cat_probs\u001b[1;34m(self, txt, resp_type)\u001b[0m\n\u001b[0;32m     46\u001b[0m                 \u001b[1;32mfor\u001b[0m \u001b[0mword\u001b[0m \u001b[1;32min\u001b[0m \u001b[0mself\u001b[0m\u001b[1;33m.\u001b[0m\u001b[0mword_cnt\u001b[0m\u001b[1;33m:\u001b[0m\u001b[1;33m\u001b[0m\u001b[1;33m\u001b[0m\u001b[0m\n\u001b[0;32m     47\u001b[0m                     chance[cat] *= (self.get_word_cnt_in_cat(cat, word) \n\u001b[1;32m---> 48\u001b[1;33m                                    if word in word_set else self.get_word_cnt_not_in_cat(cat, word)) / self.train_cnt_by_cat[cat]\n\u001b[0m\u001b[0;32m     49\u001b[0m                 \u001b[0mchance\u001b[0m\u001b[1;33m[\u001b[0m\u001b[0mcat\u001b[0m\u001b[1;33m]\u001b[0m \u001b[1;33m*=\u001b[0m \u001b[0mself\u001b[0m\u001b[1;33m.\u001b[0m\u001b[0mget_resp_type_cnt_in_cat\u001b[0m\u001b[1;33m(\u001b[0m\u001b[0mcat\u001b[0m\u001b[1;33m,\u001b[0m \u001b[0mresp_type\u001b[0m\u001b[1;33m)\u001b[0m \u001b[1;33m/\u001b[0m \u001b[0mself\u001b[0m\u001b[1;33m.\u001b[0m\u001b[0mtrain_cnt_by_cat\u001b[0m\u001b[1;33m[\u001b[0m\u001b[0mcat\u001b[0m\u001b[1;33m]\u001b[0m\u001b[1;33m\u001b[0m\u001b[1;33m\u001b[0m\u001b[0m\n\u001b[0;32m     50\u001b[0m         \u001b[0msum_chance\u001b[0m \u001b[1;33m=\u001b[0m \u001b[0msum\u001b[0m\u001b[1;33m(\u001b[0m\u001b[0mchance\u001b[0m\u001b[1;33m)\u001b[0m\u001b[1;33m\u001b[0m\u001b[1;33m\u001b[0m\u001b[0m\n",
      "\u001b[1;31mKeyboardInterrupt\u001b[0m: "
     ]
    }
   ],
   "source": [
    "r_cv_b_msg = check_cv_bayes('Текст Сообщения')"
   ]
  },
  {
   "cell_type": "code",
   "execution_count": 55,
   "id": "25e98c83",
   "metadata": {},
   "outputs": [
    {
     "name": "stdout",
     "output_type": "stream",
     "text": [
      "Статистика неверных ответов. max: 470, min: 337, mean: 388.06, median: 392.5, sd: 27.33891731579727\n",
      "Статистика верных ответов. max: 263, min: 130, mean: 211.94, median: 207.5, sd: 27.33891731579727\n"
     ]
    }
   ],
   "source": [
    "print_stat_check_cv_bayes(r_cv_b_msg)"
   ]
  },
  {
   "cell_type": "markdown",
   "id": "b5508862",
   "metadata": {},
   "source": [
    "## Комбинируем оба подхода. Сначала определяем прямым сравнением попадающихся слов в теме. Там где определить не удалось, используем наивный Байес"
   ]
  },
  {
   "cell_type": "code",
   "execution_count": 188,
   "id": "09b9e36a",
   "metadata": {},
   "outputs": [],
   "source": [
    "def predict_comb(df_train_data: pd.DataFrame, df_test_data: pd.DataFrame) -> List[int]:\n",
    "    predict_y = predict_simplest(df_train_data, df_test_data, 'Тематика')\n",
    "    \n",
    "    bayes = NaiveBayes(df_train_data['Тематика Норм'].values, \n",
    "                   df_train_data['Тип ответственного'].values,\n",
    "                   df_train_data['Категория'].values)\n",
    "    \n",
    "    for ind in range(len(predict_y)):\n",
    "        if predict_y[ind] is None:\n",
    "            predict_y[ind] = np.argmax(bayes.get_cat_probs(df_test_data['Тематика Норм'].values[ind], \n",
    "                                                           df_test_data['Тип ответственного'].values[ind]))\n",
    "    return predict_y"
   ]
  },
  {
   "cell_type": "code",
   "execution_count": 189,
   "id": "6e2544e5",
   "metadata": {},
   "outputs": [],
   "source": [
    "def check_cv_comb() -> Dict:\n",
    "    res_correct = []\n",
    "    res_incorrect = []\n",
    "    for ind in range(50):\n",
    "        df_train_oper, df_test_oper, train_oper_y, test_oper_y = train_test_split(df_train,\n",
    "                                                                                  df_train['Категория'], \n",
    "                                                                                  test_size=0.3,\n",
    "                                                                                  random_state=ind * 10)\n",
    "\n",
    "        b_pred_y = predict_comb(df_train_oper, df_test_oper)\n",
    "        res_correct.append(sum((b_pred_y == test_oper_y)))\n",
    "        res_incorrect.append(sum((b_pred_y != test_oper_y)))\n",
    "    return dict(res_correct=res_correct, res_incorrect=res_incorrect)\n",
    "\n",
    "def print_stat_check_cv_comb(r: Dict) -> None:\n",
    "    print(f\"Статистика неверных ответов. max: {max(r['res_incorrect'])}, min: {min(r['res_incorrect'])}, mean: {np.mean(r['res_incorrect'])}, median: {np.median(r['res_incorrect'])}, sd: {np.std(r['res_incorrect'])}\")\n",
    "    print(f\"Статистика верных ответов. max: {max(r['res_correct'])}, min: {min(r['res_correct'])}, mean: {np.mean(r['res_correct'])}, median: {np.median(r['res_correct'])}, sd: {np.std(r['res_correct'])}\")"
   ]
  },
  {
   "cell_type": "code",
   "execution_count": 190,
   "id": "e026f0ce",
   "metadata": {},
   "outputs": [],
   "source": [
    "r_comb = check_cv_comb()"
   ]
  },
  {
   "cell_type": "code",
   "execution_count": 191,
   "id": "1a7a1c6e",
   "metadata": {},
   "outputs": [
    {
     "name": "stdout",
     "output_type": "stream",
     "text": [
      "Статистика неверных ответов. max: 14, min: 1, mean: 3.86, median: 4.0, sd: 2.306599228301267\n",
      "Статистика верных ответов. max: 599, min: 586, mean: 596.14, median: 596.0, sd: 2.3065992283012666\n"
     ]
    }
   ],
   "source": [
    "print_stat_check_cv_comb(r_comb)"
   ]
  },
  {
   "cell_type": "markdown",
   "id": "1cc46575",
   "metadata": {},
   "source": [
    "## Строим прогноз для тестового датасета."
   ]
  },
  {
   "cell_type": "code",
   "execution_count": null,
   "id": "ebbd04b8",
   "metadata": {},
   "outputs": [],
   "source": []
  }
 ],
 "metadata": {
  "kernelspec": {
   "display_name": "Python 3",
   "language": "python",
   "name": "python3"
  },
  "language_info": {
   "codemirror_mode": {
    "name": "ipython",
    "version": 3
   },
   "file_extension": ".py",
   "mimetype": "text/x-python",
   "name": "python",
   "nbconvert_exporter": "python",
   "pygments_lexer": "ipython3",
   "version": "3.8.8"
  }
 },
 "nbformat": 4,
 "nbformat_minor": 5
}
